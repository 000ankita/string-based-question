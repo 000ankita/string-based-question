{
  "nbformat": 4,
  "nbformat_minor": 0,
  "metadata": {
    "colab": {
      "provenance": [],
      "authorship_tag": "ABX9TyPY2RSrS9vyEU3SQvr2GlJX",
      "include_colab_link": true
    },
    "kernelspec": {
      "name": "python3",
      "display_name": "Python 3"
    },
    "language_info": {
      "name": "python"
    }
  },
  "cells": [
    {
      "cell_type": "markdown",
      "metadata": {
        "id": "view-in-github",
        "colab_type": "text"
      },
      "source": [
        "<a href=\"https://colab.research.google.com/github/000ankita/string-based-question/blob/main/first_assignment_string_based_question.ipynb\" target=\"_parent\"><img src=\"https://colab.research.google.com/assets/colab-badge.svg\" alt=\"Open In Colab\"/></a>"
      ]
    },
    {
      "cell_type": "code",
      "execution_count": null,
      "metadata": {
        "colab": {
          "base_uri": "https://localhost:8080/"
        },
        "id": "v4pe8OlUKR43",
        "outputId": "537b2337-a9d3-45c0-ac6d-16ae1584ac0e"
      },
      "outputs": [
        {
          "output_type": "stream",
          "name": "stdout",
          "text": [
            "olleh\n"
          ]
        }
      ],
      "source": [
        "def reversed_string(s):\n",
        "  return s[::-1]\n",
        "\n",
        "#1. Write a program to reverse a string.\n",
        "\n",
        "string =\"hello\"\n",
        "reversed_string =reversed_string(string)\n",
        "print(reversed_string)"
      ]
    },
    {
      "cell_type": "code",
      "source": [
        "#2. Check if a string is a palindrome.\n",
        "\n",
        "\n",
        "def is_palindrome(s):\n",
        "    s = ''.join(c for c in s if c.isalnum()).lower()\n",
        "    return s == s[::-1]\n",
        "\n",
        "# Example usage:\n",
        "s = \"A man, a plan, a canal: Panama\"\n",
        "result = is_palindrome(s)\n",
        "print(result)\n",
        "\n",
        "\n"
      ],
      "metadata": {
        "colab": {
          "base_uri": "https://localhost:8080/"
        },
        "id": "re7wsOfYKuCF",
        "outputId": "c0166536-a139-4cd8-c32d-9c94c72e085d"
      },
      "execution_count": null,
      "outputs": [
        {
          "output_type": "stream",
          "name": "stdout",
          "text": [
            "True\n"
          ]
        }
      ]
    },
    {
      "cell_type": "code",
      "source": [
        "#3. Convert a string to uppercase.\n",
        "\n",
        "string = \"hello world\"\n",
        "uppercase_string= string.upper()\n",
        "print(uppercase_string)\n"
      ],
      "metadata": {
        "colab": {
          "base_uri": "https://localhost:8080/"
        },
        "id": "r3K53f1dNY-1",
        "outputId": "ae655b5e-a337-4366-d4b8-2070bcdc00a3"
      },
      "execution_count": null,
      "outputs": [
        {
          "output_type": "stream",
          "name": "stdout",
          "text": [
            "HELLO WORLD\n"
          ]
        }
      ]
    },
    {
      "cell_type": "code",
      "source": [
        "#4. Convert a string to lowercase.\n",
        "\n",
        "string = \"HAPPY\"\n",
        "lowercase_string= string.lower()\n",
        "print(lowercase_string)\n"
      ],
      "metadata": {
        "colab": {
          "base_uri": "https://localhost:8080/"
        },
        "id": "u53c6anHP31K",
        "outputId": "2e0dfd1c-b91b-4d7a-eb15-ea6bd5a479ab"
      },
      "execution_count": null,
      "outputs": [
        {
          "output_type": "stream",
          "name": "stdout",
          "text": [
            "happy\n"
          ]
        }
      ]
    },
    {
      "cell_type": "code",
      "source": [
        "#5. Count the number of vowels in a string.\n",
        "\n",
        "s = \"blue umbrella!\"\n",
        "count = count_vowels(s)\n",
        "print(count)\n",
        "\n"
      ],
      "metadata": {
        "colab": {
          "base_uri": "https://localhost:8080/"
        },
        "id": "EcgrvcEZS5uM",
        "outputId": "95e05f4c-cc87-462f-d956-0d95e8e215f4"
      },
      "execution_count": null,
      "outputs": [
        {
          "output_type": "stream",
          "name": "stdout",
          "text": [
            "5\n"
          ]
        }
      ]
    },
    {
      "cell_type": "code",
      "source": [
        "#6. Count the number of consonants in a string.\n",
        "\n",
        "def count_consonants(s):\n",
        "    s = s.lower()\n",
        "    consonants = 'bcdfghjklmnpqrstvwxyz'\n",
        "    count = 0\n",
        "    for char in s:\n",
        "        if char in consonants:\n",
        "            count += 1\n",
        "    return count\n",
        "\n",
        "# Example usage:\n",
        "s = \"my name is khan!\"\n",
        "count = count_consonants(s)\n",
        "print(count)\n"
      ],
      "metadata": {
        "colab": {
          "base_uri": "https://localhost:8080/"
        },
        "id": "bPLhG0P3Tj0y",
        "outputId": "34133731-4566-4f04-d0a6-6f4b09b008f8"
      },
      "execution_count": null,
      "outputs": [
        {
          "output_type": "stream",
          "name": "stdout",
          "text": [
            "8\n"
          ]
        }
      ]
    },
    {
      "cell_type": "code",
      "source": [
        "#7. Remove all whitespaces from a string\n",
        "\n",
        "\n",
        "string = \"Hello   World! \\nThis is a test.\"\n",
        "string_without_whitespace = remove_whitespace(string)\n",
        "print(string_without_whitespace)\n",
        "\n",
        "\n"
      ],
      "metadata": {
        "colab": {
          "base_uri": "https://localhost:8080/"
        },
        "id": "maYxUWyeVFb1",
        "outputId": "c4b8cdf8-5d25-4a78-afa0-c86a176382e4"
      },
      "execution_count": null,
      "outputs": [
        {
          "output_type": "stream",
          "name": "stdout",
          "text": [
            "HelloWorld!Thisisatest.\n"
          ]
        }
      ]
    },
    {
      "cell_type": "code",
      "source": [
        "#8. Find the length of a string without using the `len()` function.\n",
        "\n",
        "\n",
        "s = \"Hello//////World!\"\n",
        "length = string_length(s)\n",
        "print(length)"
      ],
      "metadata": {
        "colab": {
          "base_uri": "https://localhost:8080/"
        },
        "id": "5QDfvxgOVf0s",
        "outputId": "05c9d264-3e2b-4c49-e2f8-44569eb50b4c"
      },
      "execution_count": null,
      "outputs": [
        {
          "output_type": "stream",
          "name": "stdout",
          "text": [
            "17\n"
          ]
        }
      ]
    },
    {
      "cell_type": "code",
      "source": [
        "#9. Check if a string contains a specific word.\n",
        "\n",
        "\n",
        "\n",
        "def contains_word(s, word):\n",
        "    return word.lower() in s.lower()\n",
        "\n",
        "# Example usage:\n",
        "s = \"Hello, World!\"\n",
        "word = \"world\"\n",
        "result = contains_word(s, word)\n",
        "print(result)"
      ],
      "metadata": {
        "colab": {
          "base_uri": "https://localhost:8080/"
        },
        "id": "jMnUq6keX2LV",
        "outputId": "bc456373-4660-4369-8be2-a19f13d3bd0a"
      },
      "execution_count": null,
      "outputs": [
        {
          "output_type": "stream",
          "name": "stdout",
          "text": [
            "True\n"
          ]
        }
      ]
    },
    {
      "cell_type": "code",
      "source": [
        "#10. Replace a word in a string with another word.\n",
        "def replace_word(s, old_word, new_word):\n",
        "    return s.replace(old_word, new_word)\n",
        "\n",
        "s = \"Hii, world! Hello again.\"\n",
        "old_word = \"Hello\"\n",
        "new_word = \"Goodbye\"\n",
        "result = replace_word(s, old_word, new_word)\n",
        "print(result)\n"
      ],
      "metadata": {
        "colab": {
          "base_uri": "https://localhost:8080/"
        },
        "id": "hZ1mqQf4YIic",
        "outputId": "9a3b5f3c-60d0-473f-e66d-69bb99ceeac1"
      },
      "execution_count": null,
      "outputs": [
        {
          "output_type": "stream",
          "name": "stdout",
          "text": [
            "Hii, world! Goodbye again.\n"
          ]
        }
      ]
    },
    {
      "cell_type": "code",
      "source": [
        "#11. Count the occurrences of a word in a string.\n",
        "\n",
        "def count_word(s, word):\n",
        "    return s.count(word)\n",
        "\n",
        "s = \"tesla set for India ride//the ride will be rollercoaster for many company.\"\n",
        "word = \"ride\"\n",
        "result = count_word(s, word)\n",
        "print(result)"
      ],
      "metadata": {
        "colab": {
          "base_uri": "https://localhost:8080/"
        },
        "id": "gCrm3Y2VZ8oO",
        "outputId": "893e106d-b467-464b-e68a-2ca43fb48fd3"
      },
      "execution_count": null,
      "outputs": [
        {
          "output_type": "stream",
          "name": "stdout",
          "text": [
            "2\n"
          ]
        }
      ]
    },
    {
      "cell_type": "code",
      "source": [
        "#12. Find the first occurrence of a word in a string.\n",
        "\n",
        "\n",
        "def find_first_occurrence(s, word):\n",
        "    return s.find(word)\n",
        "\n",
        "s = \"elon mask and government had been extensively negotiating Tesla India foray over the past few years\"\n",
        "word = \"years\"\n",
        "result = find_first_occurrence(s, word)\n",
        "print(result)"
      ],
      "metadata": {
        "colab": {
          "base_uri": "https://localhost:8080/"
        },
        "id": "VBsgGB-7aIZ9",
        "outputId": "3aeee048-111d-4422-9182-b34df4bfac39"
      },
      "execution_count": null,
      "outputs": [
        {
          "output_type": "stream",
          "name": "stdout",
          "text": [
            "94\n"
          ]
        }
      ]
    },
    {
      "cell_type": "code",
      "source": [
        "#13. Find the last occurrence of a word in a string.\n",
        "\n",
        "def find_last_occurrence(s, word):\n",
        "    return s.rfind(word)\n",
        "\n",
        "s = \"fast moving indicators\"\n",
        "word = \"fast\"\n",
        "result = find_last_occurrence(s, word)\n",
        "print(result)"
      ],
      "metadata": {
        "colab": {
          "base_uri": "https://localhost:8080/"
        },
        "id": "9b2mYiuCa_MM",
        "outputId": "3ae220ae-d2df-4a03-8332-251ab1eb845e"
      },
      "execution_count": null,
      "outputs": [
        {
          "output_type": "stream",
          "name": "stdout",
          "text": [
            "0\n"
          ]
        }
      ]
    },
    {
      "cell_type": "code",
      "source": [
        "#14. Split a string into a list of words.\n",
        "\n",
        "def split_string(s):\n",
        "    return s.split()\n",
        "\n",
        "s = \"the govt will release revised data for the previous fiscal\"\n",
        "result = split_string(s)\n",
        "print(result)"
      ],
      "metadata": {
        "colab": {
          "base_uri": "https://localhost:8080/"
        },
        "id": "6N_mt240cIOh",
        "outputId": "d1a5aec3-9767-4148-ab36-0ff9de298ca3"
      },
      "execution_count": null,
      "outputs": [
        {
          "output_type": "stream",
          "name": "stdout",
          "text": [
            "['the', 'govt', 'will', 'release', 'revised', 'data', 'for', 'the', 'previous', 'fiscal']\n"
          ]
        }
      ]
    },
    {
      "cell_type": "code",
      "source": [
        "#15. Join a list of words into a string.\n",
        "\n",
        "def join_words(words):\n",
        "    return ' '.join(words)\n",
        "\n",
        "words = ['there', 'was', 'more', 'optimsm', 'that', 'is']\n",
        "result = join_words(words)\n",
        "print(result)"
      ],
      "metadata": {
        "colab": {
          "base_uri": "https://localhost:8080/"
        },
        "id": "ti_wu2_XdHFB",
        "outputId": "dc3ddfed-ea0b-477f-8950-97c6ff26ec0d"
      },
      "execution_count": null,
      "outputs": [
        {
          "output_type": "stream",
          "name": "stdout",
          "text": [
            "there was more optimsm that is\n"
          ]
        }
      ]
    },
    {
      "cell_type": "code",
      "source": [
        "#16. Convert a string where words are separated by spaces to one where words are separated by underscores.\n",
        "\n",
        "\n",
        "def convert_spaces_to_underscores(s):\n",
        "    return s.replace(' ', '_')\n",
        "\n",
        "s = \"the Reserve Bank of India\"\n",
        "result = convert_spaces_to_underscores(s)\n",
        "print(result)\n"
      ],
      "metadata": {
        "colab": {
          "base_uri": "https://localhost:8080/"
        },
        "id": "80f4udxkdb53",
        "outputId": "de1342f5-7c25-4dfd-b3e7-d847ec8107d9"
      },
      "execution_count": null,
      "outputs": [
        {
          "output_type": "stream",
          "name": "stdout",
          "text": [
            "the_Reserve_Bank_of_India\n"
          ]
        }
      ]
    },
    {
      "cell_type": "code",
      "source": [
        "#17. Check if a string starts with a specific word or phrase.\n",
        "\n",
        "def check_start(s, phrase):\n",
        "    return s.startswith(phrase)\n",
        "\n",
        "s = \"The policy rate now stands at 6.25.\"\n",
        "phrase = \"The\"\n",
        "result = check_start(s, phrase)\n",
        "print(result)"
      ],
      "metadata": {
        "colab": {
          "base_uri": "https://localhost:8080/"
        },
        "id": "devRBj_LeW4h",
        "outputId": "ccc15b06-4710-4987-bd4e-562256370b4b"
      },
      "execution_count": null,
      "outputs": [
        {
          "output_type": "stream",
          "name": "stdout",
          "text": [
            "True\n"
          ]
        }
      ]
    },
    {
      "cell_type": "code",
      "source": [
        "#18. Check if a string ends with a specific word or phrase.\n",
        "\n",
        "def check_end(s, phrase):\n",
        "    return s.endswith(phrase)\n",
        "\n",
        "# Example usage:\n",
        "s = \"EASING OF MONETORY CONDITION\"\n",
        "phrase = \"MONETORY\"\n",
        "result = check_end(s, phrase)\n",
        "print(result)"
      ],
      "metadata": {
        "colab": {
          "base_uri": "https://localhost:8080/"
        },
        "id": "ad66-FYleshg",
        "outputId": "bfc87747-2284-4218-c999-9cb0d8fa02a0"
      },
      "execution_count": null,
      "outputs": [
        {
          "output_type": "stream",
          "name": "stdout",
          "text": [
            "False\n"
          ]
        }
      ]
    },
    {
      "cell_type": "code",
      "source": [
        "#19. Convert a string to title case\n",
        "\n",
        "def convert_to_title_case(s):\n",
        "    return s.title()\n",
        "\n",
        "s = \"TO  be sure beside india\"\n",
        "result = convert_to_title_case(s)\n",
        "print(result)"
      ],
      "metadata": {
        "colab": {
          "base_uri": "https://localhost:8080/"
        },
        "id": "2JN1yIFOfLmd",
        "outputId": "0deb760d-418a-45de-98df-e9d847d3d20d"
      },
      "execution_count": null,
      "outputs": [
        {
          "output_type": "stream",
          "name": "stdout",
          "text": [
            "To  Be Sure Beside India\n"
          ]
        }
      ]
    },
    {
      "cell_type": "code",
      "source": [
        "#20. Find the longest word in a string.\n",
        "\n",
        "def find_longest_word(s):\n",
        "    words = s.split()\n",
        "    return max(words, key=len)\n",
        "\n",
        "s = \"in India september-november period which alligns with the festival season\"\n",
        "result = find_longest_word(s)\n",
        "print(result)"
      ],
      "metadata": {
        "colab": {
          "base_uri": "https://localhost:8080/"
        },
        "id": "F2b3Q1_Cfs99",
        "outputId": "d40f1bd8-29f3-4094-bdcc-4a788e57ba1d"
      },
      "execution_count": null,
      "outputs": [
        {
          "output_type": "stream",
          "name": "stdout",
          "text": [
            "september-november\n"
          ]
        }
      ]
    },
    {
      "cell_type": "code",
      "source": [],
      "metadata": {
        "id": "Uuqth6lmgFUz"
      },
      "execution_count": null,
      "outputs": []
    }
  ]
}